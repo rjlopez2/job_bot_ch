{
 "cells": [
  {
   "cell_type": "markdown",
   "id": "c7e499b9-3fe1-445e-9261-62053091c050",
   "metadata": {
    "tags": []
   },
   "source": [
    "# Test de extraccion de datos\n",
    "\n",
    "Utilizare como prueba la pagina **Lonza**: https://www.lonza.com/careers/job-search para la extraccion de los datos.\n",
    "\n",
    "1. Primero definiremos nuestra URL seed aplicando los criterios de filtrado:\n",
    "\n",
    "Seed: https://www.lonza.com/careers/job-search?q=data,%20biotech,%20Biostatistics,%20%20clinical%20research&pg=1&rows=100&job_location_facet_sm=Switzerland%2c+Basel\n"
   ]
  },
  {
   "cell_type": "code",
   "execution_count": 1,
   "id": "c263b703-cbf7-4856-853b-c38a580d2bd7",
   "metadata": {
    "tags": []
   },
   "outputs": [],
   "source": [
    "# IMPORTAMOS LAS LIBRERIAS QUE VAMOS UTILIZAR\n",
    "\n",
    "import requests\n",
<<<<<<< HEAD
    "from lxml import html\n",
    "import pandas as pd\n",
    "import scrapy"
=======
    "from lxml import html"
>>>>>>> 6d8c857e054cf584eb84e3a3325765db8c42cb59
   ]
  },
  {
   "cell_type": "code",
   "execution_count": 2,
   "id": "d2e46e1b-d907-4e66-8a3d-b7fbeed35dae",
   "metadata": {},
   "outputs": [],
   "source": [
    "# USER AGENT PARA PROTEGERNOS DE BANEOS\n",
    "headers = {\n",
    "    \"user-agent\": \"Mozilla/5.0 (X11; Linux x86_64) AppleWebKit/537.36 (KHTML, like Gecko) Ubuntu Chromium/71.0.3578.80 Chrome/71.0.3578.80 Safari/537.36\",\n",
    "}"
   ]
  },
  {
   "cell_type": "code",
   "execution_count": 3,
   "id": "0bf54d0e-e73e-4e8c-a64b-472e689da9a8",
   "metadata": {},
   "outputs": [],
   "source": [
    "# URL SEED\n",
    "seed = \"https://www.lonza.com/careers/job-search?q=data,%20biotech,%20Biostatistics,%20%20clinical%20research&pg=1&rows=100&job_location_facet_sm=Switzerland%2c+Basel\""
   ]
  },
  {
   "cell_type": "code",
   "execution_count": 4,
   "id": "a5d2dcdc-090f-4e45-98c6-062cf9ac6750",
   "metadata": {},
   "outputs": [],
   "source": [
    "# REQUERIMIENTO AL SERVIDOR\n",
    "respuesta = requests.get(seed, headers=headers)"
   ]
  },
  {
   "cell_type": "code",
   "execution_count": 5,
   "id": "7b741714-66bf-4ff2-b2fd-5b686618aeda",
   "metadata": {},
   "outputs": [
    {
     "data": {
      "text/plain": [
       "<Response [200]>"
      ]
     },
     "execution_count": 5,
     "metadata": {},
     "output_type": "execute_result"
    }
   ],
   "source": [
    "respuesta"
   ]
  },
  {
   "cell_type": "code",
<<<<<<< HEAD
   "execution_count": 6,
=======
   "execution_count": 1,
>>>>>>> 6d8c857e054cf584eb84e3a3325765db8c42cb59
   "id": "6dfabd5f-d674-4024-9355-90964245be20",
   "metadata": {
    "tags": []
   },
   "outputs": [],
   "source": [
    "# print(respuesta.text)"
   ]
  },
  {
   "cell_type": "code",
   "execution_count": 7,
   "id": "c0c553fd-601c-4417-bfbd-2799f2abf95a",
   "metadata": {},
   "outputs": [],
   "source": [
    "# PARSEO DEL ARBOL HTML QUE RECIBO COMO RESPUESTA CON LXML\n",
    "parser = html.fromstring(respuesta.text)"
   ]
  },
  {
   "cell_type": "code",
   "execution_count": 8,
   "id": "339278d6-f7e4-49a2-96b1-6c9955dbcb37",
   "metadata": {
    "collapsed": true,
    "jupyter": {
     "outputs_hidden": true
    },
    "tags": []
   },
   "outputs": [
    {
     "name": "stdout",
     "output_type": "stream",
     "text": [
<<<<<<< HEAD
=======
      "Intern Forensic Chemistry\n",
>>>>>>> 6d8c857e054cf584eb84e3a3325765db8c42cb59
      "Student Internship / Praktikant\n",
      "(Senior) Scientist Process Development\n",
      "Senior Data Engineer\n",
      "Data Governance Manager\n",
      "Functional Specialist - Data Coordinator\n",
      "(Senior) Scientist Physico-Chemical Quality Control\n",
      "Scientist Bioanalytics\n",
<<<<<<< HEAD
      "Internship – Strategy Consultant CIO Office\n",
      "Head of Process Development LNP\n",
      "Team Leader, Physico-Chemical Quality Control\n",
      "Technology Transfer Lead\n",
      "Lead Scientist, Formulation Development, DPS\n",
      "(Senior) Scientist Stability Physico-Chemical Quality Control\n",
      "Scientist Formulation Development\n",
      "Director Commercial Development (Mammalian)\n",
=======
      "Head of Process Development LNP\n",
      "Team Leader, Physico-Chemical Quality Control\n",
      "Principal Scientist / Group Lead Physico-Chemical Quality Control\n",
      "Technology Transfer Lead\n",
      "(Senior) Scientist Stability Physico-Chemical Quality Control\n",
      "Scientist Formulation Development\n",
      "Lead Scientist, Formulation Development, DPS\n",
      "Director Commercial Development (Mammalian)\n",
      "Head Commercial Quality Control Drug Product Services\n",
>>>>>>> 6d8c857e054cf584eb84e3a3325765db8c42cb59
      "Technical Proposals Manager, Drug Product Services\n",
      "QC Planner/Scheduler (m/f/d)\n",
      "Lead Scientist, Process Development\n",
      "Quality Network Head Drug Product Services\n",
<<<<<<< HEAD
      "Technical Sales Manager\n",
      "QC Lab Systems Specialist\n",
      "Lead Scientist, Physico-Chemical Quality Control\n",
      "Program Manager DPS\n",
      "Senior Principal Scientist / Group Head Bioanalytics\n",
      "Head of Physico-Chemical Quality Control Drug Product Services\n",
      "Senior Program Manager Drug Product Services\n",
      "Internship Marketing - Business Intelligence and Analytics 100%\n",
      "Integration Engineer\n",
      "Integration Architect\n",
=======
      "QC Lab Systems Specialist\n",
      "Technical Sales Manager\n",
      "Head of Physico-Chemical Quality Control Drug Product Services\n",
      "Senior Principal Scientist / Group Head Bioanalytics\n",
      "Program Manager DPS\n",
      "Internship Marketing - Business Intelligence and Analytics 100%\n",
      "Integration Engineer\n",
      "Integration Architect\n",
      "Intern Supply Chain and Vendor Supply Chain Integrity (100%)\n",
      "Digital HR Reporting & Insights Specialist\n",
>>>>>>> 6d8c857e054cf584eb84e3a3325765db8c42cb59
      "Associate Director, Digital Portfolio Testing & Release\n",
      "Global Head of MSAT - Technical Transfer & Processes (m/f/d)\n",
      "Principal Scientist / Group Lead Formulation Development\n",
      "Associate Principal Scientist, DP Process Development\n",
<<<<<<< HEAD
      "Digital HR Reporting & Insights Specialist\n",
=======
>>>>>>> 6d8c857e054cf584eb84e3a3325765db8c42cb59
      "Sales & Operations – CoE Specialist (m/f/d)\n",
      "IT Strategy Development & Team Lead\n",
      "•\tInternal Auditor/ Audit Manager (with finance/accounting expertise)\n",
      "Strategic Growth Project Lead\n",
<<<<<<< HEAD
      "Strategic Growth Project Lead (f/m/d)\n",
      "Scientist Forensic Chemistry\n",
      "Transport Excellence Director (m/f/w)\n",
      "Business Analyst Digital\n",
      "Quality Assurance Expert QC Analytics\n",
      "Intern – Global Warehouse Strategy (100%)\n",
=======
      "Scientist Forensic Chemistry\n",
      "Quality Assurance Expert QC Analytics\n",
      "Intern – Global Warehouse Strategy (100%)\n",
      "Business Analyst Digital\n",
      "Transport Excellence Director (m/f/w)\n",
      "Head of Sales and Business Development EMEA and APAC\n",
>>>>>>> 6d8c857e054cf584eb84e3a3325765db8c42cb59
      "Principal / Associate Principal Scientist - Analytical Project Leader\n",
      "Demand Planning – CoE Specialist (m/f/d)\n",
      "Trade Compliance Manager\n",
      "IT Auditor / IT Audit Manager\n",
<<<<<<< HEAD
      "Regional Employer Brand Lead, EMEA\n",
      "Head Supply Chain Drug Product Services\n"
=======
      "Regional Employer Brand Lead, EMEA\n"
>>>>>>> 6d8c857e054cf584eb84e3a3325765db8c42cb59
     ]
    },
    {
     "data": {
      "text/plain": [
       "50"
      ]
     },
     "execution_count": 8,
     "metadata": {},
     "output_type": "execute_result"
    }
   ],
   "source": [
    "# PARSEP DE TODOS LOS PUESTOS POR CLASE\n",
    "list_puestos = parser.find_class('search-result-title')\n",
    "\n",
    "for puesto in list_puestos:\n",
    "    text_puesto = puesto.text_content()\n",
    "    print(text_puesto)\n",
    "\n",
    "len(list_puestos)"
   ]
  },
  {
   "cell_type": "code",
   "execution_count": 9,
   "id": "77b2a390-41c2-4346-8496-9352cb4a80f4",
   "metadata": {
    "collapsed": true,
    "jp-MarkdownHeadingCollapsed": true,
    "jupyter": {
     "outputs_hidden": true
    },
    "tags": []
   },
   "outputs": [
    {
     "name": "stdout",
     "output_type": "stream",
     "text": [
      "Switzerland, Basel\n",
      "Switzerland, Basel\n",
<<<<<<< HEAD
=======
      "Switzerland, Basel\n",
>>>>>>> 6d8c857e054cf584eb84e3a3325765db8c42cb59
      "Switzerland, Basel; Switzerland, Visp\n",
      "Switzerland, Basel\n",
      "Switzerland, Basel; United States, Portsmouth (New Hampshire)\n",
      "Switzerland, Basel\n",
      "Switzerland, Basel\n",
      "Switzerland, Basel\n",
      "Switzerland, Basel\n",
      "Switzerland, Basel\n",
      "Switzerland, Basel\n",
      "Switzerland, Basel\n",
      "Switzerland, Basel\n",
      "Switzerland, Basel\n",
      "Switzerland, Basel; United Kingdom, Slough\n",
      "Switzerland, Basel\n",
      "Switzerland, Basel\n",
      "Switzerland, Basel\n",
      "Switzerland, Basel\n",
<<<<<<< HEAD
      "Switzerland, Basel; Switzerland, Visp\n",
      "Switzerland, Basel\n",
      "Switzerland, Basel\n",
      "Switzerland, Basel\n",
=======
      "Switzerland, Basel\n",
      "Switzerland, Basel\n",
      "Switzerland, Basel; Switzerland, Visp\n",
>>>>>>> 6d8c857e054cf584eb84e3a3325765db8c42cb59
      "Switzerland, Basel\n",
      "Switzerland, Basel\n",
      "Switzerland, Basel\n",
      "Switzerland, Basel\n",
      "Switzerland, Basel; Switzerland, Visp\n",
      "Switzerland, Basel; Switzerland, Visp\n",
<<<<<<< HEAD
=======
      "Switzerland, Basel; Switzerland, Stein\n",
      "Switzerland, Basel; United Kingdom, Manchester\n",
>>>>>>> 6d8c857e054cf584eb84e3a3325765db8c42cb59
      "Singapore, Singapore; Singapore, Tuas Singapore; Spain, Porrino; Switzerland, Basel; Switzerland, Visp; United Kingdom, Slough; United States, Portsmouth (New Hampshire)\n",
      "Switzerland, Basel; Switzerland, Visp; United States, Portsmouth (New Hampshire)\n",
      "Switzerland, Basel\n",
      "Switzerland, Basel\n",
<<<<<<< HEAD
      "Switzerland, Basel; United Kingdom, Manchester\n",
=======
>>>>>>> 6d8c857e054cf584eb84e3a3325765db8c42cb59
      "Switzerland, Basel\n",
      "Switzerland, Basel\n",
      "Switzerland, Basel\n",
      "Switzerland, Basel\n",
<<<<<<< HEAD
      "Switzerland, Basel; Switzerland, Stein\n",
=======
      "Switzerland, Basel\n",
>>>>>>> 6d8c857e054cf584eb84e3a3325765db8c42cb59
      "Switzerland, Basel\n",
      "Switzerland, Basel\n",
      "Switzerland, Basel; Switzerland, Visp\n",
      "Switzerland, Basel\n",
      "Switzerland, Basel\n",
      "Switzerland, Basel\n",
      "Switzerland, Basel\n",
      "Switzerland, Basel\n",
      "Switzerland, Basel\n",
<<<<<<< HEAD
      "Switzerland, Basel; United Kingdom, Manchester\n",
      "Switzerland, Basel\n"
=======
      "Switzerland, Basel; United Kingdom, Manchester\n"
>>>>>>> 6d8c857e054cf584eb84e3a3325765db8c42cb59
     ]
    },
    {
     "data": {
      "text/plain": [
       "50"
      ]
     },
     "execution_count": 9,
     "metadata": {},
     "output_type": "execute_result"
    }
   ],
   "source": [
    "# PARSEO DE TODOS LOS REGIONS AND COUNTRIES POR CLASE\n",
    "list_countries = parser.find_class('search-result-content')\n",
    "\n",
    "for country in list_countries:\n",
    "    text_country = country.text_content()\n",
    "    print(text_country)\n",
    "\n",
    "len(list_countries)"
   ]
  },
  {
   "cell_type": "code",
<<<<<<< HEAD
   "execution_count": 12,
   "id": "31621db7-1260-4f30-8d02-92f42d619ed1",
   "metadata": {},
   "outputs": [
    {
     "name": "stdout",
     "output_type": "stream",
     "text": [
      "https://www.lonza.com/jobs/R3784\n"
     ]
    },
    {
     "data": {
      "text/plain": [
       "str"
      ]
     },
     "execution_count": 12,
     "metadata": {},
     "output_type": "execute_result"
    }
   ],
   "source": [
    "# PARSEO DE TODOS LOS HREF POR EMPLEO \n",
    "\n",
    "list_links = parser.xpath(\"//div[@class='col-12 col-lg-6']/a/@href\")\n",
    "\n",
    "url_lonza = \"https://www.lonza.com\"\n",
    "    \n",
    "list_str_links = []\n",
    "\n",
    "for link in list_links:\n",
    "    \n",
    "    str_link = str(link) # UTILIZO EL METODO STR PARA CONVERTIR EL ELEMNTO EN STRING\n",
    "    list_str_links.append(url_lonza + str_link)\n",
    "      \n",
    "print(list_str_links[0])\n",
    "type(list_str_links[0])"
   ]
  },
  {
   "cell_type": "code",
=======
>>>>>>> 6d8c857e054cf584eb84e3a3325765db8c42cb59
   "execution_count": 10,
   "id": "67034646-230e-4c28-b2d2-84110d5a55fc",
   "metadata": {
    "collapsed": true,
    "jupyter": {
     "outputs_hidden": true
    },
    "tags": []
   },
   "outputs": [
    {
     "name": "stdout",
     "output_type": "stream",
     "text": [
<<<<<<< HEAD
      "['Intern Forensic Chemistry', 'Student Internship / Praktikant', '(Senior) Scientist Process Development', 'Senior Data Engineer', 'Data Governance Manager', 'Functional Specialist - Data Coordinator', '(Senior) Scientist Physico-Chemical Quality Control', 'Scientist Bioanalytics', 'Internship – Strategy Consultant CIO Office', 'Head of Process Development LNP', 'Team Leader, Physico-Chemical Quality Control', 'Technology Transfer Lead', 'Lead Scientist, Formulation Development, DPS', '(Senior) Scientist Stability Physico-Chemical Quality Control', 'Scientist Formulation Development', 'Director Commercial Development (Mammalian)', 'Head Commercial Quality Control Drug Product Services', 'Technical Proposals Manager, Drug Product Services', 'QC Planner/Scheduler (m/f/d)', 'Lead Scientist, Process Development', 'Quality Network Head Drug Product Services', 'Technical Sales Manager', 'QC Lab Systems Specialist', 'Lead Scientist, Physico-Chemical Quality Control', 'Program Manager DPS', 'Senior Principal Scientist / Group Head Bioanalytics', 'Head of Physico-Chemical Quality Control Drug Product Services', 'Senior Program Manager Drug Product Services', 'Internship Marketing - Business Intelligence and Analytics 100%', 'Integration Engineer', 'Integration Architect', 'Associate Director, Digital Portfolio Testing & Release', 'Global Head of MSAT - Technical Transfer & Processes (m/f/d)', 'Principal Scientist / Group Lead Formulation Development', 'Associate Principal Scientist, DP Process Development', 'Digital HR Reporting & Insights Specialist', 'Sales & Operations – CoE Specialist (m/f/d)', 'Strategic Growth Project Lead', 'IT Strategy Development & Team Lead', '•\\tInternal Auditor/ Audit Manager (with finance/accounting expertise)', 'Scientist Forensic Chemistry', 'Intern – Global Warehouse Strategy (100%)', 'Transport Excellence Director (m/f/w)', 'Business Analyst Digital', 'Quality Assurance Expert QC Analytics', 'Principal / Associate Principal Scientist - Analytical Project Leader', 'Demand Planning – CoE Specialist (m/f/d)', 'Trade Compliance Manager', 'IT Auditor / IT Audit Manager', 'Regional Employer Brand Lead, EMEA', 'Head Supply Chain Drug Product Services'] 51 <class 'str'>\n",
      "\n",
      "\n",
      "['Switzerland, Basel', 'Switzerland, Basel', 'Switzerland, Basel', 'Switzerland, Basel; Switzerland, Visp', 'Switzerland, Basel', 'Switzerland, Basel; United States, Portsmouth (New Hampshire)', 'Switzerland, Basel', 'Switzerland, Basel', 'Switzerland, Basel', 'Switzerland, Basel', 'Switzerland, Basel', 'Switzerland, Basel', 'Switzerland, Basel', 'Switzerland, Basel', 'Switzerland, Basel', 'Switzerland, Basel; United Kingdom, Slough', 'Switzerland, Basel', 'Switzerland, Basel', 'Switzerland, Basel', 'Switzerland, Basel', 'Switzerland, Basel', 'Switzerland, Basel; Switzerland, Visp', 'Switzerland, Basel', 'Switzerland, Basel', 'Switzerland, Basel', 'Switzerland, Basel', 'Switzerland, Basel', 'Switzerland, Basel', 'Switzerland, Basel', 'Switzerland, Basel; Switzerland, Visp', 'Switzerland, Basel; Switzerland, Visp', 'Singapore, Singapore; Singapore, Tuas Singapore; Spain, Porrino; Switzerland, Basel; Switzerland, Visp; United Kingdom, Slough; United States, Portsmouth (New Hampshire)', 'Switzerland, Basel; Switzerland, Visp; United States, Portsmouth (New Hampshire)', 'Switzerland, Basel', 'Switzerland, Basel', 'Switzerland, Basel; United Kingdom, Manchester', 'Switzerland, Basel', 'Switzerland, Basel', 'Switzerland, Basel', 'Switzerland, Basel', 'Switzerland, Basel', 'Switzerland, Basel', 'Switzerland, Basel', 'Switzerland, Basel; Switzerland, Visp', 'Switzerland, Basel', 'Switzerland, Basel', 'Switzerland, Basel', 'Switzerland, Basel', 'Switzerland, Basel', 'Switzerland, Basel; United Kingdom, Manchester', 'Switzerland, Basel'] 51 <class 'str'>\n"
=======
      "['Intern Forensic Chemistry', 'Student Internship / Praktikant', '(Senior) Scientist Process Development', 'Senior Data Engineer', 'Data Governance Manager', 'Functional Specialist - Data Coordinator', '(Senior) Scientist Physico-Chemical Quality Control', 'Scientist Bioanalytics', 'Head of Process Development LNP', 'Team Leader, Physico-Chemical Quality Control', 'Principal Scientist / Group Lead Physico-Chemical Quality Control', 'Technology Transfer Lead', '(Senior) Scientist Stability Physico-Chemical Quality Control', 'Scientist Formulation Development', 'Lead Scientist, Formulation Development, DPS', 'Director Commercial Development (Mammalian)', 'Head Commercial Quality Control Drug Product Services', 'Technical Proposals Manager, Drug Product Services', 'QC Planner/Scheduler (m/f/d)', 'Lead Scientist, Process Development', 'Quality Network Head Drug Product Services', 'QC Lab Systems Specialist', 'Technical Sales Manager', 'Head of Physico-Chemical Quality Control Drug Product Services', 'Senior Principal Scientist / Group Head Bioanalytics', 'Program Manager DPS', 'Internship Marketing - Business Intelligence and Analytics 100%', 'Integration Engineer', 'Integration Architect', 'Intern Supply Chain and Vendor Supply Chain Integrity (100%)', 'Digital HR Reporting & Insights Specialist', 'Associate Director, Digital Portfolio Testing & Release', 'Global Head of MSAT - Technical Transfer & Processes (m/f/d)', 'Principal Scientist / Group Lead Formulation Development', 'Associate Principal Scientist, DP Process Development', 'Sales & Operations – CoE Specialist (m/f/d)', 'IT Strategy Development & Team Lead', '•\\tInternal Auditor/ Audit Manager (with finance/accounting expertise)', 'Strategic Growth Project Lead', 'Scientist Forensic Chemistry', 'Quality Assurance Expert QC Analytics', 'Intern – Global Warehouse Strategy (100%)', 'Business Analyst Digital', 'Transport Excellence Director (m/f/w)', 'Head of Sales and Business Development EMEA and APAC', 'Principal / Associate Principal Scientist - Analytical Project Leader', 'Demand Planning – CoE Specialist (m/f/d)', 'Trade Compliance Manager', 'IT Auditor / IT Audit Manager', 'Regional Employer Brand Lead, EMEA'] 50 <class 'str'>\n",
      "\n",
      "\n",
      "['Switzerland, Basel', 'Switzerland, Basel', 'Switzerland, Basel', 'Switzerland, Basel; Switzerland, Visp', 'Switzerland, Basel', 'Switzerland, Basel; United States, Portsmouth (New Hampshire)', 'Switzerland, Basel', 'Switzerland, Basel', 'Switzerland, Basel', 'Switzerland, Basel', 'Switzerland, Basel', 'Switzerland, Basel', 'Switzerland, Basel', 'Switzerland, Basel', 'Switzerland, Basel', 'Switzerland, Basel; United Kingdom, Slough', 'Switzerland, Basel', 'Switzerland, Basel', 'Switzerland, Basel', 'Switzerland, Basel', 'Switzerland, Basel', 'Switzerland, Basel', 'Switzerland, Basel; Switzerland, Visp', 'Switzerland, Basel', 'Switzerland, Basel', 'Switzerland, Basel', 'Switzerland, Basel', 'Switzerland, Basel; Switzerland, Visp', 'Switzerland, Basel; Switzerland, Visp', 'Switzerland, Basel; Switzerland, Stein', 'Switzerland, Basel; United Kingdom, Manchester', 'Singapore, Singapore; Singapore, Tuas Singapore; Spain, Porrino; Switzerland, Basel; Switzerland, Visp; United Kingdom, Slough; United States, Portsmouth (New Hampshire)', 'Switzerland, Basel; Switzerland, Visp; United States, Portsmouth (New Hampshire)', 'Switzerland, Basel', 'Switzerland, Basel', 'Switzerland, Basel', 'Switzerland, Basel', 'Switzerland, Basel', 'Switzerland, Basel', 'Switzerland, Basel', 'Switzerland, Basel', 'Switzerland, Basel', 'Switzerland, Basel; Switzerland, Visp', 'Switzerland, Basel', 'Switzerland, Basel', 'Switzerland, Basel', 'Switzerland, Basel', 'Switzerland, Basel', 'Switzerland, Basel', 'Switzerland, Basel; United Kingdom, Manchester'] 50 <class 'str'>\n"
>>>>>>> 6d8c857e054cf584eb84e3a3325765db8c42cb59
     ]
    }
   ],
   "source": [
    "# CONVERTIMOS LOS ELEMENTOS LXML EN STR PARA PODER MANIPULAR LAS LISTAS\n",
    "\n",
    "list_text_puestos = []\n",
    "list_text_countries = []\n",
    "\n",
    "for puesto in list_puestos:\n",
    "    \n",
    "    text_puesto = str(puesto.text_content()) # UTILIZO EL METODO TEXT_CONTENT() PARA TRAER DIRECTAMENTE EL TEXTO\n",
    "    list_text_puestos.append(text_puesto)\n",
    "    \n",
    "for country in list_countries:\n",
    "    \n",
    "    text_country = str(country.text_content())\n",
    "    list_text_countries.append(text_country)\n",
    "             \n",
    "print(list_text_puestos, len(list_text_puestos), type(list_text_puestos[0]))\n",
    "print()\n",
    "print()\n",
    "print(list_text_countries, len(list_text_countries), type(list_text_countries[0]))"
   ]
  },
  {
   "cell_type": "code",
<<<<<<< HEAD
   "execution_count": 11,
=======
   "execution_count": 13,
>>>>>>> 6d8c857e054cf584eb84e3a3325765db8c42cb59
   "id": "c27c9bf1-7b8b-49a3-aef2-888a722bbe26",
   "metadata": {
    "collapsed": true,
    "jupyter": {
     "outputs_hidden": true
    },
    "tags": []
   },
   "outputs": [
    {
     "name": "stdout",
     "output_type": "stream",
     "text": [
      "Puesto:  Intern Forensic Chemistry \n",
      " Country:  Switzerland, Basel\n",
      "\n",
      "Puesto:  Student Internship / Praktikant \n",
      " Country:  Switzerland, Basel\n",
      "\n",
      "Puesto:  (Senior) Scientist Process Development \n",
      " Country:  Switzerland, Basel\n",
      "\n",
      "Puesto:  Senior Data Engineer \n",
      " Country:  Switzerland, Basel; Switzerland, Visp\n",
      "\n",
      "Puesto:  Data Governance Manager \n",
      " Country:  Switzerland, Basel\n",
      "\n",
      "Puesto:  Functional Specialist - Data Coordinator \n",
      " Country:  Switzerland, Basel; United States, Portsmouth (New Hampshire)\n",
      "\n",
      "Puesto:  (Senior) Scientist Physico-Chemical Quality Control \n",
      " Country:  Switzerland, Basel\n",
      "\n",
      "Puesto:  Scientist Bioanalytics \n",
      " Country:  Switzerland, Basel\n",
      "\n",
<<<<<<< HEAD
      "Puesto:  Internship – Strategy Consultant CIO Office \n",
      " Country:  Switzerland, Basel\n",
      "\n",
=======
>>>>>>> 6d8c857e054cf584eb84e3a3325765db8c42cb59
      "Puesto:  Head of Process Development LNP \n",
      " Country:  Switzerland, Basel\n",
      "\n",
      "Puesto:  Team Leader, Physico-Chemical Quality Control \n",
      " Country:  Switzerland, Basel\n",
      "\n",
<<<<<<< HEAD
      "Puesto:  Technology Transfer Lead \n",
      " Country:  Switzerland, Basel\n",
      "\n",
      "Puesto:  Lead Scientist, Formulation Development, DPS \n",
=======
      "Puesto:  Principal Scientist / Group Lead Physico-Chemical Quality Control \n",
      " Country:  Switzerland, Basel\n",
      "\n",
      "Puesto:  Technology Transfer Lead \n",
>>>>>>> 6d8c857e054cf584eb84e3a3325765db8c42cb59
      " Country:  Switzerland, Basel\n",
      "\n",
      "Puesto:  (Senior) Scientist Stability Physico-Chemical Quality Control \n",
      " Country:  Switzerland, Basel\n",
      "\n",
      "Puesto:  Scientist Formulation Development \n",
      " Country:  Switzerland, Basel\n",
      "\n",
<<<<<<< HEAD
=======
      "Puesto:  Lead Scientist, Formulation Development, DPS \n",
      " Country:  Switzerland, Basel\n",
      "\n",
>>>>>>> 6d8c857e054cf584eb84e3a3325765db8c42cb59
      "Puesto:  Director Commercial Development (Mammalian) \n",
      " Country:  Switzerland, Basel; United Kingdom, Slough\n",
      "\n",
      "Puesto:  Head Commercial Quality Control Drug Product Services \n",
      " Country:  Switzerland, Basel\n",
      "\n",
      "Puesto:  Technical Proposals Manager, Drug Product Services \n",
      " Country:  Switzerland, Basel\n",
      "\n",
      "Puesto:  QC Planner/Scheduler (m/f/d) \n",
      " Country:  Switzerland, Basel\n",
      "\n",
      "Puesto:  Lead Scientist, Process Development \n",
      " Country:  Switzerland, Basel\n",
      "\n",
      "Puesto:  Quality Network Head Drug Product Services \n",
      " Country:  Switzerland, Basel\n",
      "\n",
<<<<<<< HEAD
      "Puesto:  Technical Sales Manager \n",
      " Country:  Switzerland, Basel; Switzerland, Visp\n",
      "\n",
      "Puesto:  QC Lab Systems Specialist \n",
      " Country:  Switzerland, Basel\n",
      "\n",
      "Puesto:  Lead Scientist, Physico-Chemical Quality Control \n",
      " Country:  Switzerland, Basel\n",
      "\n",
      "Puesto:  Program Manager DPS \n",
=======
      "Puesto:  QC Lab Systems Specialist \n",
      " Country:  Switzerland, Basel\n",
      "\n",
      "Puesto:  Technical Sales Manager \n",
      " Country:  Switzerland, Basel; Switzerland, Visp\n",
      "\n",
      "Puesto:  Head of Physico-Chemical Quality Control Drug Product Services \n",
>>>>>>> 6d8c857e054cf584eb84e3a3325765db8c42cb59
      " Country:  Switzerland, Basel\n",
      "\n",
      "Puesto:  Senior Principal Scientist / Group Head Bioanalytics \n",
      " Country:  Switzerland, Basel\n",
      "\n",
<<<<<<< HEAD
      "Puesto:  Head of Physico-Chemical Quality Control Drug Product Services \n",
      " Country:  Switzerland, Basel\n",
      "\n",
      "Puesto:  Senior Program Manager Drug Product Services \n",
=======
      "Puesto:  Program Manager DPS \n",
>>>>>>> 6d8c857e054cf584eb84e3a3325765db8c42cb59
      " Country:  Switzerland, Basel\n",
      "\n",
      "Puesto:  Internship Marketing - Business Intelligence and Analytics 100% \n",
      " Country:  Switzerland, Basel\n",
      "\n",
      "Puesto:  Integration Engineer \n",
      " Country:  Switzerland, Basel; Switzerland, Visp\n",
      "\n",
      "Puesto:  Integration Architect \n",
      " Country:  Switzerland, Basel; Switzerland, Visp\n",
      "\n",
<<<<<<< HEAD
=======
      "Puesto:  Intern Supply Chain and Vendor Supply Chain Integrity (100%) \n",
      " Country:  Switzerland, Basel; Switzerland, Stein\n",
      "\n",
      "Puesto:  Digital HR Reporting & Insights Specialist \n",
      " Country:  Switzerland, Basel; United Kingdom, Manchester\n",
      "\n",
>>>>>>> 6d8c857e054cf584eb84e3a3325765db8c42cb59
      "Puesto:  Associate Director, Digital Portfolio Testing & Release \n",
      " Country:  Singapore, Singapore; Singapore, Tuas Singapore; Spain, Porrino; Switzerland, Basel; Switzerland, Visp; United Kingdom, Slough; United States, Portsmouth (New Hampshire)\n",
      "\n",
      "Puesto:  Global Head of MSAT - Technical Transfer & Processes (m/f/d) \n",
      " Country:  Switzerland, Basel; Switzerland, Visp; United States, Portsmouth (New Hampshire)\n",
      "\n",
      "Puesto:  Principal Scientist / Group Lead Formulation Development \n",
      " Country:  Switzerland, Basel\n",
      "\n",
      "Puesto:  Associate Principal Scientist, DP Process Development \n",
      " Country:  Switzerland, Basel\n",
      "\n",
<<<<<<< HEAD
      "Puesto:  Digital HR Reporting & Insights Specialist \n",
      " Country:  Switzerland, Basel; United Kingdom, Manchester\n",
      "\n",
      "Puesto:  Sales & Operations – CoE Specialist (m/f/d) \n",
      " Country:  Switzerland, Basel\n",
      "\n",
      "Puesto:  Strategic Growth Project Lead \n",
      " Country:  Switzerland, Basel\n",
      "\n",
=======
      "Puesto:  Sales & Operations – CoE Specialist (m/f/d) \n",
      " Country:  Switzerland, Basel\n",
      "\n",
>>>>>>> 6d8c857e054cf584eb84e3a3325765db8c42cb59
      "Puesto:  IT Strategy Development & Team Lead \n",
      " Country:  Switzerland, Basel\n",
      "\n",
      "Puesto:  •\tInternal Auditor/ Audit Manager (with finance/accounting expertise) \n",
      " Country:  Switzerland, Basel\n",
      "\n",
<<<<<<< HEAD
      "Puesto:  Scientist Forensic Chemistry \n",
      " Country:  Switzerland, Basel\n",
      "\n",
      "Puesto:  Intern – Global Warehouse Strategy (100%) \n",
      " Country:  Switzerland, Basel\n",
      "\n",
      "Puesto:  Transport Excellence Director (m/f/w) \n",
=======
      "Puesto:  Strategic Growth Project Lead \n",
      " Country:  Switzerland, Basel\n",
      "\n",
      "Puesto:  Scientist Forensic Chemistry \n",
      " Country:  Switzerland, Basel\n",
      "\n",
      "Puesto:  Quality Assurance Expert QC Analytics \n",
      " Country:  Switzerland, Basel\n",
      "\n",
      "Puesto:  Intern – Global Warehouse Strategy (100%) \n",
>>>>>>> 6d8c857e054cf584eb84e3a3325765db8c42cb59
      " Country:  Switzerland, Basel\n",
      "\n",
      "Puesto:  Business Analyst Digital \n",
      " Country:  Switzerland, Basel; Switzerland, Visp\n",
      "\n",
<<<<<<< HEAD
      "Puesto:  Quality Assurance Expert QC Analytics \n",
=======
      "Puesto:  Transport Excellence Director (m/f/w) \n",
      " Country:  Switzerland, Basel\n",
      "\n",
      "Puesto:  Head of Sales and Business Development EMEA and APAC \n",
>>>>>>> 6d8c857e054cf584eb84e3a3325765db8c42cb59
      " Country:  Switzerland, Basel\n",
      "\n",
      "Puesto:  Principal / Associate Principal Scientist - Analytical Project Leader \n",
      " Country:  Switzerland, Basel\n",
      "\n",
      "Puesto:  Demand Planning – CoE Specialist (m/f/d) \n",
      " Country:  Switzerland, Basel\n",
      "\n",
      "Puesto:  Trade Compliance Manager \n",
      " Country:  Switzerland, Basel\n",
      "\n",
      "Puesto:  IT Auditor / IT Audit Manager \n",
      " Country:  Switzerland, Basel\n",
      "\n",
      "Puesto:  Regional Employer Brand Lead, EMEA \n",
      " Country:  Switzerland, Basel; United Kingdom, Manchester\n",
<<<<<<< HEAD
      "\n",
      "Puesto:  Head Supply Chain Drug Product Services \n",
      " Country:  Switzerland, Basel\n",
=======
>>>>>>> 6d8c857e054cf584eb84e3a3325765db8c42cb59
      "\n"
     ]
    }
   ],
   "source": [
    "for (i) in range(len(list_text_puestos)):\n",
    "    print(\"Puesto: \", list_text_puestos[i], \"\\n\",  \"Country: \", list_text_countries[i])\n",
    "    print()\n",
    "    "
   ]
  },
  {
   "cell_type": "code",
<<<<<<< HEAD
   "execution_count": 12,
   "id": "27f5902a-d768-4a65-8b7c-9bad4a3d335e",
   "metadata": {
    "collapsed": true,
    "jupyter": {
     "outputs_hidden": true
    },
    "tags": []
   },
   "outputs": [
    {
     "data": {
      "text/html": [
       "<div>\n",
       "<style scoped>\n",
       "    .dataframe tbody tr th:only-of-type {\n",
       "        vertical-align: middle;\n",
       "    }\n",
       "\n",
       "    .dataframe tbody tr th {\n",
       "        vertical-align: top;\n",
       "    }\n",
       "\n",
       "    .dataframe thead th {\n",
       "        text-align: right;\n",
       "    }\n",
       "</style>\n",
       "<table border=\"1\" class=\"dataframe\">\n",
       "  <thead>\n",
       "    <tr style=\"text-align: right;\">\n",
       "      <th></th>\n",
       "      <th>PUESTOS</th>\n",
       "      <th>COUNTRY, REGION</th>\n",
       "    </tr>\n",
       "  </thead>\n",
       "  <tbody>\n",
       "    <tr>\n",
       "      <th>0</th>\n",
       "      <td>Intern Forensic Chemistry</td>\n",
       "      <td>Switzerland, Basel</td>\n",
       "    </tr>\n",
       "    <tr>\n",
       "      <th>1</th>\n",
       "      <td>Student Internship / Praktikant</td>\n",
       "      <td>Switzerland, Basel</td>\n",
       "    </tr>\n",
       "    <tr>\n",
       "      <th>2</th>\n",
       "      <td>(Senior) Scientist Process Development</td>\n",
       "      <td>Switzerland, Basel</td>\n",
       "    </tr>\n",
       "    <tr>\n",
       "      <th>3</th>\n",
       "      <td>Senior Data Engineer</td>\n",
       "      <td>Switzerland, Basel; Switzerland, Visp</td>\n",
       "    </tr>\n",
       "    <tr>\n",
       "      <th>4</th>\n",
       "      <td>Data Governance Manager</td>\n",
       "      <td>Switzerland, Basel</td>\n",
       "    </tr>\n",
       "    <tr>\n",
       "      <th>5</th>\n",
       "      <td>Functional Specialist - Data Coordinator</td>\n",
       "      <td>Switzerland, Basel; United States, Portsmouth ...</td>\n",
       "    </tr>\n",
       "    <tr>\n",
       "      <th>6</th>\n",
       "      <td>(Senior) Scientist Physico-Chemical Quality Co...</td>\n",
       "      <td>Switzerland, Basel</td>\n",
       "    </tr>\n",
       "    <tr>\n",
       "      <th>7</th>\n",
       "      <td>Scientist Bioanalytics</td>\n",
       "      <td>Switzerland, Basel</td>\n",
       "    </tr>\n",
       "    <tr>\n",
       "      <th>8</th>\n",
       "      <td>Internship – Strategy Consultant CIO Office</td>\n",
       "      <td>Switzerland, Basel</td>\n",
       "    </tr>\n",
       "    <tr>\n",
       "      <th>9</th>\n",
       "      <td>Head of Process Development LNP</td>\n",
       "      <td>Switzerland, Basel</td>\n",
       "    </tr>\n",
       "    <tr>\n",
       "      <th>10</th>\n",
       "      <td>Team Leader, Physico-Chemical Quality Control</td>\n",
       "      <td>Switzerland, Basel</td>\n",
       "    </tr>\n",
       "    <tr>\n",
       "      <th>11</th>\n",
       "      <td>Technology Transfer Lead</td>\n",
       "      <td>Switzerland, Basel</td>\n",
       "    </tr>\n",
       "    <tr>\n",
       "      <th>12</th>\n",
       "      <td>Lead Scientist, Formulation Development, DPS</td>\n",
       "      <td>Switzerland, Basel</td>\n",
       "    </tr>\n",
       "    <tr>\n",
       "      <th>13</th>\n",
       "      <td>(Senior) Scientist Stability Physico-Chemical ...</td>\n",
       "      <td>Switzerland, Basel</td>\n",
       "    </tr>\n",
       "    <tr>\n",
       "      <th>14</th>\n",
       "      <td>Scientist Formulation Development</td>\n",
       "      <td>Switzerland, Basel</td>\n",
       "    </tr>\n",
       "    <tr>\n",
       "      <th>15</th>\n",
       "      <td>Director Commercial Development (Mammalian)</td>\n",
       "      <td>Switzerland, Basel; United Kingdom, Slough</td>\n",
       "    </tr>\n",
       "    <tr>\n",
       "      <th>16</th>\n",
       "      <td>Head Commercial Quality Control Drug Product S...</td>\n",
       "      <td>Switzerland, Basel</td>\n",
       "    </tr>\n",
       "    <tr>\n",
       "      <th>17</th>\n",
       "      <td>Technical Proposals Manager, Drug Product Serv...</td>\n",
       "      <td>Switzerland, Basel</td>\n",
       "    </tr>\n",
       "    <tr>\n",
       "      <th>18</th>\n",
       "      <td>QC Planner/Scheduler (m/f/d)</td>\n",
       "      <td>Switzerland, Basel</td>\n",
       "    </tr>\n",
       "    <tr>\n",
       "      <th>19</th>\n",
       "      <td>Lead Scientist, Process Development</td>\n",
       "      <td>Switzerland, Basel</td>\n",
       "    </tr>\n",
       "    <tr>\n",
       "      <th>20</th>\n",
       "      <td>Quality Network Head Drug Product Services</td>\n",
       "      <td>Switzerland, Basel</td>\n",
       "    </tr>\n",
       "    <tr>\n",
       "      <th>21</th>\n",
       "      <td>Technical Sales Manager</td>\n",
       "      <td>Switzerland, Basel; Switzerland, Visp</td>\n",
       "    </tr>\n",
       "    <tr>\n",
       "      <th>22</th>\n",
       "      <td>QC Lab Systems Specialist</td>\n",
       "      <td>Switzerland, Basel</td>\n",
       "    </tr>\n",
       "    <tr>\n",
       "      <th>23</th>\n",
       "      <td>Lead Scientist, Physico-Chemical Quality Control</td>\n",
       "      <td>Switzerland, Basel</td>\n",
       "    </tr>\n",
       "    <tr>\n",
       "      <th>24</th>\n",
       "      <td>Program Manager DPS</td>\n",
       "      <td>Switzerland, Basel</td>\n",
       "    </tr>\n",
       "    <tr>\n",
       "      <th>25</th>\n",
       "      <td>Senior Principal Scientist / Group Head Bioana...</td>\n",
       "      <td>Switzerland, Basel</td>\n",
       "    </tr>\n",
       "    <tr>\n",
       "      <th>26</th>\n",
       "      <td>Head of Physico-Chemical Quality Control Drug ...</td>\n",
       "      <td>Switzerland, Basel</td>\n",
       "    </tr>\n",
       "    <tr>\n",
       "      <th>27</th>\n",
       "      <td>Senior Program Manager Drug Product Services</td>\n",
       "      <td>Switzerland, Basel</td>\n",
       "    </tr>\n",
       "    <tr>\n",
       "      <th>28</th>\n",
       "      <td>Internship Marketing - Business Intelligence a...</td>\n",
       "      <td>Switzerland, Basel</td>\n",
       "    </tr>\n",
       "    <tr>\n",
       "      <th>29</th>\n",
       "      <td>Integration Engineer</td>\n",
       "      <td>Switzerland, Basel; Switzerland, Visp</td>\n",
       "    </tr>\n",
       "    <tr>\n",
       "      <th>30</th>\n",
       "      <td>Integration Architect</td>\n",
       "      <td>Switzerland, Basel; Switzerland, Visp</td>\n",
       "    </tr>\n",
       "    <tr>\n",
       "      <th>31</th>\n",
       "      <td>Associate Director, Digital Portfolio Testing ...</td>\n",
       "      <td>Singapore, Singapore; Singapore, Tuas Singapor...</td>\n",
       "    </tr>\n",
       "    <tr>\n",
       "      <th>32</th>\n",
       "      <td>Global Head of MSAT - Technical Transfer &amp; Pro...</td>\n",
       "      <td>Switzerland, Basel; Switzerland, Visp; United ...</td>\n",
       "    </tr>\n",
       "    <tr>\n",
       "      <th>33</th>\n",
       "      <td>Principal Scientist / Group Lead Formulation D...</td>\n",
       "      <td>Switzerland, Basel</td>\n",
       "    </tr>\n",
       "    <tr>\n",
       "      <th>34</th>\n",
       "      <td>Associate Principal Scientist, DP Process Deve...</td>\n",
       "      <td>Switzerland, Basel</td>\n",
       "    </tr>\n",
       "    <tr>\n",
       "      <th>35</th>\n",
       "      <td>Digital HR Reporting &amp; Insights Specialist</td>\n",
       "      <td>Switzerland, Basel; United Kingdom, Manchester</td>\n",
       "    </tr>\n",
       "    <tr>\n",
       "      <th>36</th>\n",
       "      <td>Sales &amp; Operations – CoE Specialist (m/f/d)</td>\n",
       "      <td>Switzerland, Basel</td>\n",
       "    </tr>\n",
       "    <tr>\n",
       "      <th>37</th>\n",
       "      <td>Strategic Growth Project Lead</td>\n",
       "      <td>Switzerland, Basel</td>\n",
       "    </tr>\n",
       "    <tr>\n",
       "      <th>38</th>\n",
       "      <td>IT Strategy Development &amp; Team Lead</td>\n",
       "      <td>Switzerland, Basel</td>\n",
       "    </tr>\n",
       "    <tr>\n",
       "      <th>39</th>\n",
       "      <td>•\\tInternal Auditor/ Audit Manager (with finan...</td>\n",
       "      <td>Switzerland, Basel</td>\n",
       "    </tr>\n",
       "    <tr>\n",
       "      <th>40</th>\n",
       "      <td>Scientist Forensic Chemistry</td>\n",
       "      <td>Switzerland, Basel</td>\n",
       "    </tr>\n",
       "    <tr>\n",
       "      <th>41</th>\n",
       "      <td>Intern – Global Warehouse Strategy (100%)</td>\n",
       "      <td>Switzerland, Basel</td>\n",
       "    </tr>\n",
       "    <tr>\n",
       "      <th>42</th>\n",
       "      <td>Transport Excellence Director (m/f/w)</td>\n",
       "      <td>Switzerland, Basel</td>\n",
       "    </tr>\n",
       "    <tr>\n",
       "      <th>43</th>\n",
       "      <td>Business Analyst Digital</td>\n",
       "      <td>Switzerland, Basel; Switzerland, Visp</td>\n",
       "    </tr>\n",
       "    <tr>\n",
       "      <th>44</th>\n",
       "      <td>Quality Assurance Expert QC Analytics</td>\n",
       "      <td>Switzerland, Basel</td>\n",
       "    </tr>\n",
       "    <tr>\n",
       "      <th>45</th>\n",
       "      <td>Principal / Associate Principal Scientist - An...</td>\n",
       "      <td>Switzerland, Basel</td>\n",
       "    </tr>\n",
       "    <tr>\n",
       "      <th>46</th>\n",
       "      <td>Demand Planning – CoE Specialist (m/f/d)</td>\n",
       "      <td>Switzerland, Basel</td>\n",
       "    </tr>\n",
       "    <tr>\n",
       "      <th>47</th>\n",
       "      <td>Trade Compliance Manager</td>\n",
       "      <td>Switzerland, Basel</td>\n",
       "    </tr>\n",
       "    <tr>\n",
       "      <th>48</th>\n",
       "      <td>IT Auditor / IT Audit Manager</td>\n",
       "      <td>Switzerland, Basel</td>\n",
       "    </tr>\n",
       "    <tr>\n",
       "      <th>49</th>\n",
       "      <td>Regional Employer Brand Lead, EMEA</td>\n",
       "      <td>Switzerland, Basel; United Kingdom, Manchester</td>\n",
       "    </tr>\n",
       "    <tr>\n",
       "      <th>50</th>\n",
       "      <td>Head Supply Chain Drug Product Services</td>\n",
       "      <td>Switzerland, Basel</td>\n",
       "    </tr>\n",
       "  </tbody>\n",
       "</table>\n",
       "</div>"
      ],
      "text/plain": [
       "                                              PUESTOS  \\\n",
       "0                           Intern Forensic Chemistry   \n",
       "1                     Student Internship / Praktikant   \n",
       "2              (Senior) Scientist Process Development   \n",
       "3                                Senior Data Engineer   \n",
       "4                             Data Governance Manager   \n",
       "5            Functional Specialist - Data Coordinator   \n",
       "6   (Senior) Scientist Physico-Chemical Quality Co...   \n",
       "7                              Scientist Bioanalytics   \n",
       "8         Internship – Strategy Consultant CIO Office   \n",
       "9                     Head of Process Development LNP   \n",
       "10      Team Leader, Physico-Chemical Quality Control   \n",
       "11                           Technology Transfer Lead   \n",
       "12       Lead Scientist, Formulation Development, DPS   \n",
       "13  (Senior) Scientist Stability Physico-Chemical ...   \n",
       "14                  Scientist Formulation Development   \n",
       "15        Director Commercial Development (Mammalian)   \n",
       "16  Head Commercial Quality Control Drug Product S...   \n",
       "17  Technical Proposals Manager, Drug Product Serv...   \n",
       "18                       QC Planner/Scheduler (m/f/d)   \n",
       "19                Lead Scientist, Process Development   \n",
       "20         Quality Network Head Drug Product Services   \n",
       "21                            Technical Sales Manager   \n",
       "22                          QC Lab Systems Specialist   \n",
       "23   Lead Scientist, Physico-Chemical Quality Control   \n",
       "24                                Program Manager DPS   \n",
       "25  Senior Principal Scientist / Group Head Bioana...   \n",
       "26  Head of Physico-Chemical Quality Control Drug ...   \n",
       "27       Senior Program Manager Drug Product Services   \n",
       "28  Internship Marketing - Business Intelligence a...   \n",
       "29                               Integration Engineer   \n",
       "30                              Integration Architect   \n",
       "31  Associate Director, Digital Portfolio Testing ...   \n",
       "32  Global Head of MSAT - Technical Transfer & Pro...   \n",
       "33  Principal Scientist / Group Lead Formulation D...   \n",
       "34  Associate Principal Scientist, DP Process Deve...   \n",
       "35         Digital HR Reporting & Insights Specialist   \n",
       "36        Sales & Operations – CoE Specialist (m/f/d)   \n",
       "37                      Strategic Growth Project Lead   \n",
       "38                IT Strategy Development & Team Lead   \n",
       "39  •\\tInternal Auditor/ Audit Manager (with finan...   \n",
       "40                       Scientist Forensic Chemistry   \n",
       "41          Intern – Global Warehouse Strategy (100%)   \n",
       "42              Transport Excellence Director (m/f/w)   \n",
       "43                           Business Analyst Digital   \n",
       "44              Quality Assurance Expert QC Analytics   \n",
       "45  Principal / Associate Principal Scientist - An...   \n",
       "46           Demand Planning – CoE Specialist (m/f/d)   \n",
       "47                           Trade Compliance Manager   \n",
       "48                      IT Auditor / IT Audit Manager   \n",
       "49                 Regional Employer Brand Lead, EMEA   \n",
       "50            Head Supply Chain Drug Product Services   \n",
       "\n",
       "                                      COUNTRY, REGION  \n",
       "0                                  Switzerland, Basel  \n",
       "1                                  Switzerland, Basel  \n",
       "2                                  Switzerland, Basel  \n",
       "3               Switzerland, Basel; Switzerland, Visp  \n",
       "4                                  Switzerland, Basel  \n",
       "5   Switzerland, Basel; United States, Portsmouth ...  \n",
       "6                                  Switzerland, Basel  \n",
       "7                                  Switzerland, Basel  \n",
       "8                                  Switzerland, Basel  \n",
       "9                                  Switzerland, Basel  \n",
       "10                                 Switzerland, Basel  \n",
       "11                                 Switzerland, Basel  \n",
       "12                                 Switzerland, Basel  \n",
       "13                                 Switzerland, Basel  \n",
       "14                                 Switzerland, Basel  \n",
       "15         Switzerland, Basel; United Kingdom, Slough  \n",
       "16                                 Switzerland, Basel  \n",
       "17                                 Switzerland, Basel  \n",
       "18                                 Switzerland, Basel  \n",
       "19                                 Switzerland, Basel  \n",
       "20                                 Switzerland, Basel  \n",
       "21              Switzerland, Basel; Switzerland, Visp  \n",
       "22                                 Switzerland, Basel  \n",
       "23                                 Switzerland, Basel  \n",
       "24                                 Switzerland, Basel  \n",
       "25                                 Switzerland, Basel  \n",
       "26                                 Switzerland, Basel  \n",
       "27                                 Switzerland, Basel  \n",
       "28                                 Switzerland, Basel  \n",
       "29              Switzerland, Basel; Switzerland, Visp  \n",
       "30              Switzerland, Basel; Switzerland, Visp  \n",
       "31  Singapore, Singapore; Singapore, Tuas Singapor...  \n",
       "32  Switzerland, Basel; Switzerland, Visp; United ...  \n",
       "33                                 Switzerland, Basel  \n",
       "34                                 Switzerland, Basel  \n",
       "35     Switzerland, Basel; United Kingdom, Manchester  \n",
       "36                                 Switzerland, Basel  \n",
       "37                                 Switzerland, Basel  \n",
       "38                                 Switzerland, Basel  \n",
       "39                                 Switzerland, Basel  \n",
       "40                                 Switzerland, Basel  \n",
       "41                                 Switzerland, Basel  \n",
       "42                                 Switzerland, Basel  \n",
       "43              Switzerland, Basel; Switzerland, Visp  \n",
       "44                                 Switzerland, Basel  \n",
       "45                                 Switzerland, Basel  \n",
       "46                                 Switzerland, Basel  \n",
       "47                                 Switzerland, Basel  \n",
       "48                                 Switzerland, Basel  \n",
       "49     Switzerland, Basel; United Kingdom, Manchester  \n",
       "50                                 Switzerland, Basel  "
      ]
     },
     "execution_count": 12,
=======
   "execution_count": 20,
   "id": "294c26ba-2190-40c8-a1cd-f8f963246595",
   "metadata": {},
   "outputs": [
    {
     "data": {
      "text/plain": [
       "0"
      ]
     },
     "execution_count": 20,
>>>>>>> 6d8c857e054cf584eb84e3a3325765db8c42cb59
     "metadata": {},
     "output_type": "execute_result"
    }
   ],
   "source": [
<<<<<<< HEAD
    "# CREANDO DATAFRAME CON LOS DATOS RECOPILADOS\n",
    "\n",
    "df = pd.DataFrame(list(zip(list_text_puestos, list_text_countries)),\n",
    "               columns =['PUESTOS', 'COUNTRY, REGION'])\n",
    "df"
=======
    "# PARSEO DE TODOS LOS DESCRIPCIONES\n",
    "list_descripciones = parser.find_class('col-md-8')\n",
    "\n",
    "type(list_descripciones)\n",
    "len(list_descripciones)"
   ]
  },
  {
   "cell_type": "code",
   "execution_count": 12,
   "id": "7310552b-30cb-4730-b366-3c4586ebbac3",
   "metadata": {
    "tags": []
   },
   "outputs": [
    {
     "ename": "NameError",
     "evalue": "name 'list_r_country' is not defined",
     "output_type": "error",
     "traceback": [
      "\u001b[1;31m---------------------------------------------------------------------------\u001b[0m",
      "\u001b[1;31mNameError\u001b[0m                                 Traceback (most recent call last)",
      "\u001b[1;32m~\\AppData\\Local\\Temp/ipykernel_36984/1835147685.py\u001b[0m in \u001b[0;36m<module>\u001b[1;34m\u001b[0m\n\u001b[0;32m     11\u001b[0m \u001b[1;33m\u001b[0m\u001b[0m\n\u001b[0;32m     12\u001b[0m \u001b[1;33m\u001b[0m\u001b[0m\n\u001b[1;32m---> 13\u001b[1;33m \u001b[0mtype\u001b[0m\u001b[1;33m(\u001b[0m\u001b[0mlist_r_country\u001b[0m\u001b[1;33m)\u001b[0m\u001b[1;33m\u001b[0m\u001b[1;33m\u001b[0m\u001b[0m\n\u001b[0m\u001b[0;32m     14\u001b[0m \u001b[0mprint\u001b[0m\u001b[1;33m(\u001b[0m\u001b[0mlist_r_countries\u001b[0m \u001b[1;33m,\u001b[0m \u001b[0mlen\u001b[0m\u001b[1;33m(\u001b[0m\u001b[0mlist_r_countries\u001b[0m\u001b[1;33m)\u001b[0m\u001b[1;33m)\u001b[0m\u001b[1;33m\u001b[0m\u001b[1;33m\u001b[0m\u001b[0m\n",
      "\u001b[1;31mNameError\u001b[0m: name 'list_r_country' is not defined"
     ]
    }
   ],
   "source": [
    "# CREAMOS LISTAS CON LOS DATOS RECOPILADOS\n",
    "r_countries = parser.find_class('search-result-content')\n",
    "\n",
    "for r_country in r_countries:\n",
    "    \n",
    "    list_r_countries = []\n",
    "    list_r_countries.append(r_country)\n",
    "    \n",
    "    \n",
    "    \n",
    "\n",
    "\n",
    "type(list_r_country)\n",
    "print(list_r_countries , len(list_r_countries))"
>>>>>>> 6d8c857e054cf584eb84e3a3325765db8c42cb59
   ]
  },
  {
   "cell_type": "code",
   "execution_count": null,
<<<<<<< HEAD
   "id": "81563ff5-f5ca-498c-9264-d913026f1004",
=======
   "id": "27f5902a-d768-4a65-8b7c-9bad4a3d335e",
>>>>>>> 6d8c857e054cf584eb84e3a3325765db8c42cb59
   "metadata": {},
   "outputs": [],
   "source": []
  }
 ],
 "metadata": {
  "kernelspec": {
   "display_name": "Python 3 (ipykernel)",
   "language": "python",
   "name": "python3"
  },
  "language_info": {
   "codemirror_mode": {
    "name": "ipython",
    "version": 3
   },
   "file_extension": ".py",
   "mimetype": "text/x-python",
   "name": "python",
   "nbconvert_exporter": "python",
   "pygments_lexer": "ipython3",
   "version": "3.9.7"
  }
 },
 "nbformat": 4,
 "nbformat_minor": 5
}
