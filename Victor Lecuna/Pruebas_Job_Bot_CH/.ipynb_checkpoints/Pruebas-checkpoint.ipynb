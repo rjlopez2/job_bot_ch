{
 "cells": [
  {
   "cell_type": "markdown",
   "id": "c7e499b9-3fe1-445e-9261-62053091c050",
   "metadata": {
    "tags": []
   },
   "source": [
    "# Test de extraccion de datos\n",
    "\n",
    "Utilizare como prueba la pagina **Lonza**: https://www.lonza.com/careers/job-search para la extraccion de los datos.\n",
    "\n",
    "1. Primero definiremos nuestra URL seed aplicando los criterios de filtrado:\n",
    "\n",
    "Seed: https://www.lonza.com/careers/job-search?q=data,%20biotech,%20Biostatistics,%20%20clinical%20research&pg=1&rows=100&job_location_facet_sm=Switzerland%2c+Basel\n"
   ]
  },
  {
   "cell_type": "code",
   "execution_count": 1,
   "id": "c263b703-cbf7-4856-853b-c38a580d2bd7",
   "metadata": {
    "tags": []
   },
   "outputs": [],
   "source": [
    "# IMPORTAMOS LAS LIBRERIAS QUE VAMOS UTILIZAR\n",
    "\n",
    "import requests\n",
    "from lxml import html"
   ]
  },
  {
   "cell_type": "code",
   "execution_count": 2,
   "id": "d2e46e1b-d907-4e66-8a3d-b7fbeed35dae",
   "metadata": {},
   "outputs": [],
   "source": [
    "# USER AGENT PARA PROTEGERNOS DE BANEOS\n",
    "headers = {\n",
    "    \"user-agent\": \"Mozilla/5.0 (X11; Linux x86_64) AppleWebKit/537.36 (KHTML, like Gecko) Ubuntu Chromium/71.0.3578.80 Chrome/71.0.3578.80 Safari/537.36\",\n",
    "}"
   ]
  },
  {
   "cell_type": "code",
   "execution_count": 3,
   "id": "0bf54d0e-e73e-4e8c-a64b-472e689da9a8",
   "metadata": {},
   "outputs": [],
   "source": [
    "# URL SEED\n",
    "seed = \"https://www.lonza.com/careers/job-search?q=data,%20biotech,%20Biostatistics,%20%20clinical%20research&pg=1&rows=100&job_location_facet_sm=Switzerland%2c+Basel\""
   ]
  },
  {
   "cell_type": "code",
   "execution_count": 4,
   "id": "a5d2dcdc-090f-4e45-98c6-062cf9ac6750",
   "metadata": {},
   "outputs": [],
   "source": [
    "# REQUERIMIENTO AL SERVIDOR\n",
    "respuesta = requests.get(seed, headers=headers)"
   ]
  },
  {
   "cell_type": "code",
   "execution_count": 5,
   "id": "7b741714-66bf-4ff2-b2fd-5b686618aeda",
   "metadata": {},
   "outputs": [
    {
     "data": {
      "text/plain": [
       "<Response [200]>"
      ]
     },
     "execution_count": 5,
     "metadata": {},
     "output_type": "execute_result"
    }
   ],
   "source": [
    "respuesta"
   ]
  },
  {
   "cell_type": "code",
   "execution_count": 1,
   "id": "6dfabd5f-d674-4024-9355-90964245be20",
   "metadata": {
    "tags": []
   },
   "outputs": [],
   "source": [
    "# print(respuesta.text)"
   ]
  },
  {
   "cell_type": "code",
   "execution_count": 7,
   "id": "c0c553fd-601c-4417-bfbd-2799f2abf95a",
   "metadata": {},
   "outputs": [],
   "source": [
    "# PARSEO DEL ARBOL HTML QUE RECIBO COMO RESPUESTA CON LXML\n",
    "parser = html.fromstring(respuesta.text)"
   ]
  },
  {
   "cell_type": "code",
   "execution_count": 8,
   "id": "339278d6-f7e4-49a2-96b1-6c9955dbcb37",
   "metadata": {
    "collapsed": true,
    "jupyter": {
     "outputs_hidden": true
    },
    "tags": []
   },
   "outputs": [
    {
     "name": "stdout",
     "output_type": "stream",
     "text": [
      "Intern Forensic Chemistry\n",
      "Student Internship / Praktikant\n",
      "(Senior) Scientist Process Development\n",
      "Senior Data Engineer\n",
      "Data Governance Manager\n",
      "Functional Specialist - Data Coordinator\n",
      "(Senior) Scientist Physico-Chemical Quality Control\n",
      "Scientist Bioanalytics\n",
      "Head of Process Development LNP\n",
      "Team Leader, Physico-Chemical Quality Control\n",
      "Principal Scientist / Group Lead Physico-Chemical Quality Control\n",
      "Technology Transfer Lead\n",
      "(Senior) Scientist Stability Physico-Chemical Quality Control\n",
      "Scientist Formulation Development\n",
      "Lead Scientist, Formulation Development, DPS\n",
      "Director Commercial Development (Mammalian)\n",
      "Head Commercial Quality Control Drug Product Services\n",
      "Technical Proposals Manager, Drug Product Services\n",
      "QC Planner/Scheduler (m/f/d)\n",
      "Lead Scientist, Process Development\n",
      "Quality Network Head Drug Product Services\n",
      "QC Lab Systems Specialist\n",
      "Technical Sales Manager\n",
      "Head of Physico-Chemical Quality Control Drug Product Services\n",
      "Senior Principal Scientist / Group Head Bioanalytics\n",
      "Program Manager DPS\n",
      "Internship Marketing - Business Intelligence and Analytics 100%\n",
      "Integration Engineer\n",
      "Integration Architect\n",
      "Intern Supply Chain and Vendor Supply Chain Integrity (100%)\n",
      "Digital HR Reporting & Insights Specialist\n",
      "Associate Director, Digital Portfolio Testing & Release\n",
      "Global Head of MSAT - Technical Transfer & Processes (m/f/d)\n",
      "Principal Scientist / Group Lead Formulation Development\n",
      "Associate Principal Scientist, DP Process Development\n",
      "Sales & Operations – CoE Specialist (m/f/d)\n",
      "IT Strategy Development & Team Lead\n",
      "•\tInternal Auditor/ Audit Manager (with finance/accounting expertise)\n",
      "Strategic Growth Project Lead\n",
      "Scientist Forensic Chemistry\n",
      "Quality Assurance Expert QC Analytics\n",
      "Intern – Global Warehouse Strategy (100%)\n",
      "Business Analyst Digital\n",
      "Transport Excellence Director (m/f/w)\n",
      "Head of Sales and Business Development EMEA and APAC\n",
      "Principal / Associate Principal Scientist - Analytical Project Leader\n",
      "Demand Planning – CoE Specialist (m/f/d)\n",
      "Trade Compliance Manager\n",
      "IT Auditor / IT Audit Manager\n",
      "Regional Employer Brand Lead, EMEA\n"
     ]
    },
    {
     "data": {
      "text/plain": [
       "50"
      ]
     },
     "execution_count": 8,
     "metadata": {},
     "output_type": "execute_result"
    }
   ],
   "source": [
    "# PARSEP DE TODOS LOS PUESTOS POR CLASE\n",
    "list_puestos = parser.find_class('search-result-title')\n",
    "\n",
    "for puesto in list_puestos:\n",
    "    text_puesto = puesto.text_content()\n",
    "    print(text_puesto)\n",
    "\n",
    "len(list_puestos)"
   ]
  },
  {
   "cell_type": "code",
   "execution_count": 9,
   "id": "77b2a390-41c2-4346-8496-9352cb4a80f4",
   "metadata": {
    "collapsed": true,
    "jp-MarkdownHeadingCollapsed": true,
    "jupyter": {
     "outputs_hidden": true
    },
    "tags": []
   },
   "outputs": [
    {
     "name": "stdout",
     "output_type": "stream",
     "text": [
      "Switzerland, Basel\n",
      "Switzerland, Basel\n",
      "Switzerland, Basel\n",
      "Switzerland, Basel; Switzerland, Visp\n",
      "Switzerland, Basel\n",
      "Switzerland, Basel; United States, Portsmouth (New Hampshire)\n",
      "Switzerland, Basel\n",
      "Switzerland, Basel\n",
      "Switzerland, Basel\n",
      "Switzerland, Basel\n",
      "Switzerland, Basel\n",
      "Switzerland, Basel\n",
      "Switzerland, Basel\n",
      "Switzerland, Basel\n",
      "Switzerland, Basel\n",
      "Switzerland, Basel; United Kingdom, Slough\n",
      "Switzerland, Basel\n",
      "Switzerland, Basel\n",
      "Switzerland, Basel\n",
      "Switzerland, Basel\n",
      "Switzerland, Basel\n",
      "Switzerland, Basel\n",
      "Switzerland, Basel; Switzerland, Visp\n",
      "Switzerland, Basel\n",
      "Switzerland, Basel\n",
      "Switzerland, Basel\n",
      "Switzerland, Basel\n",
      "Switzerland, Basel; Switzerland, Visp\n",
      "Switzerland, Basel; Switzerland, Visp\n",
      "Switzerland, Basel; Switzerland, Stein\n",
      "Switzerland, Basel; United Kingdom, Manchester\n",
      "Singapore, Singapore; Singapore, Tuas Singapore; Spain, Porrino; Switzerland, Basel; Switzerland, Visp; United Kingdom, Slough; United States, Portsmouth (New Hampshire)\n",
      "Switzerland, Basel; Switzerland, Visp; United States, Portsmouth (New Hampshire)\n",
      "Switzerland, Basel\n",
      "Switzerland, Basel\n",
      "Switzerland, Basel\n",
      "Switzerland, Basel\n",
      "Switzerland, Basel\n",
      "Switzerland, Basel\n",
      "Switzerland, Basel\n",
      "Switzerland, Basel\n",
      "Switzerland, Basel\n",
      "Switzerland, Basel; Switzerland, Visp\n",
      "Switzerland, Basel\n",
      "Switzerland, Basel\n",
      "Switzerland, Basel\n",
      "Switzerland, Basel\n",
      "Switzerland, Basel\n",
      "Switzerland, Basel\n",
      "Switzerland, Basel; United Kingdom, Manchester\n"
     ]
    },
    {
     "data": {
      "text/plain": [
       "50"
      ]
     },
     "execution_count": 9,
     "metadata": {},
     "output_type": "execute_result"
    }
   ],
   "source": [
    "# PARSEO DE TODOS LOS REGIONS AND COUNTRIES POR CLASE\n",
    "list_countries = parser.find_class('search-result-content')\n",
    "\n",
    "for country in list_countries:\n",
    "    text_country = country.text_content()\n",
    "    print(text_country)\n",
    "\n",
    "len(list_countries)"
   ]
  },
  {
   "cell_type": "code",
   "execution_count": 10,
   "id": "67034646-230e-4c28-b2d2-84110d5a55fc",
   "metadata": {
    "collapsed": true,
    "jupyter": {
     "outputs_hidden": true
    },
    "tags": []
   },
   "outputs": [
    {
     "name": "stdout",
     "output_type": "stream",
     "text": [
      "['Intern Forensic Chemistry', 'Student Internship / Praktikant', '(Senior) Scientist Process Development', 'Senior Data Engineer', 'Data Governance Manager', 'Functional Specialist - Data Coordinator', '(Senior) Scientist Physico-Chemical Quality Control', 'Scientist Bioanalytics', 'Head of Process Development LNP', 'Team Leader, Physico-Chemical Quality Control', 'Principal Scientist / Group Lead Physico-Chemical Quality Control', 'Technology Transfer Lead', '(Senior) Scientist Stability Physico-Chemical Quality Control', 'Scientist Formulation Development', 'Lead Scientist, Formulation Development, DPS', 'Director Commercial Development (Mammalian)', 'Head Commercial Quality Control Drug Product Services', 'Technical Proposals Manager, Drug Product Services', 'QC Planner/Scheduler (m/f/d)', 'Lead Scientist, Process Development', 'Quality Network Head Drug Product Services', 'QC Lab Systems Specialist', 'Technical Sales Manager', 'Head of Physico-Chemical Quality Control Drug Product Services', 'Senior Principal Scientist / Group Head Bioanalytics', 'Program Manager DPS', 'Internship Marketing - Business Intelligence and Analytics 100%', 'Integration Engineer', 'Integration Architect', 'Intern Supply Chain and Vendor Supply Chain Integrity (100%)', 'Digital HR Reporting & Insights Specialist', 'Associate Director, Digital Portfolio Testing & Release', 'Global Head of MSAT - Technical Transfer & Processes (m/f/d)', 'Principal Scientist / Group Lead Formulation Development', 'Associate Principal Scientist, DP Process Development', 'Sales & Operations – CoE Specialist (m/f/d)', 'IT Strategy Development & Team Lead', '•\\tInternal Auditor/ Audit Manager (with finance/accounting expertise)', 'Strategic Growth Project Lead', 'Scientist Forensic Chemistry', 'Quality Assurance Expert QC Analytics', 'Intern – Global Warehouse Strategy (100%)', 'Business Analyst Digital', 'Transport Excellence Director (m/f/w)', 'Head of Sales and Business Development EMEA and APAC', 'Principal / Associate Principal Scientist - Analytical Project Leader', 'Demand Planning – CoE Specialist (m/f/d)', 'Trade Compliance Manager', 'IT Auditor / IT Audit Manager', 'Regional Employer Brand Lead, EMEA'] 50 <class 'str'>\n",
      "\n",
      "\n",
      "['Switzerland, Basel', 'Switzerland, Basel', 'Switzerland, Basel', 'Switzerland, Basel; Switzerland, Visp', 'Switzerland, Basel', 'Switzerland, Basel; United States, Portsmouth (New Hampshire)', 'Switzerland, Basel', 'Switzerland, Basel', 'Switzerland, Basel', 'Switzerland, Basel', 'Switzerland, Basel', 'Switzerland, Basel', 'Switzerland, Basel', 'Switzerland, Basel', 'Switzerland, Basel', 'Switzerland, Basel; United Kingdom, Slough', 'Switzerland, Basel', 'Switzerland, Basel', 'Switzerland, Basel', 'Switzerland, Basel', 'Switzerland, Basel', 'Switzerland, Basel', 'Switzerland, Basel; Switzerland, Visp', 'Switzerland, Basel', 'Switzerland, Basel', 'Switzerland, Basel', 'Switzerland, Basel', 'Switzerland, Basel; Switzerland, Visp', 'Switzerland, Basel; Switzerland, Visp', 'Switzerland, Basel; Switzerland, Stein', 'Switzerland, Basel; United Kingdom, Manchester', 'Singapore, Singapore; Singapore, Tuas Singapore; Spain, Porrino; Switzerland, Basel; Switzerland, Visp; United Kingdom, Slough; United States, Portsmouth (New Hampshire)', 'Switzerland, Basel; Switzerland, Visp; United States, Portsmouth (New Hampshire)', 'Switzerland, Basel', 'Switzerland, Basel', 'Switzerland, Basel', 'Switzerland, Basel', 'Switzerland, Basel', 'Switzerland, Basel', 'Switzerland, Basel', 'Switzerland, Basel', 'Switzerland, Basel', 'Switzerland, Basel; Switzerland, Visp', 'Switzerland, Basel', 'Switzerland, Basel', 'Switzerland, Basel', 'Switzerland, Basel', 'Switzerland, Basel', 'Switzerland, Basel', 'Switzerland, Basel; United Kingdom, Manchester'] 50 <class 'str'>\n"
     ]
    }
   ],
   "source": [
    "# CONVERTIMOS LOS ELEMENTOS LXML EN STR PARA PODER MANIPULAR LAS LISTAS\n",
    "\n",
    "list_text_puestos = []\n",
    "list_text_countries = []\n",
    "\n",
    "for puesto in list_puestos:\n",
    "    \n",
    "    text_puesto = str(puesto.text_content()) # UTILIZO EL METODO TEXT_CONTENT() PARA TRAER DIRECTAMENTE EL TEXTO\n",
    "    list_text_puestos.append(text_puesto)\n",
    "    \n",
    "for country in list_countries:\n",
    "    \n",
    "    text_country = str(country.text_content())\n",
    "    list_text_countries.append(text_country)\n",
    "             \n",
    "print(list_text_puestos, len(list_text_puestos), type(list_text_puestos[0]))\n",
    "print()\n",
    "print()\n",
    "print(list_text_countries, len(list_text_countries), type(list_text_countries[0]))"
   ]
  },
  {
   "cell_type": "code",
   "execution_count": 13,
   "id": "c27c9bf1-7b8b-49a3-aef2-888a722bbe26",
   "metadata": {
    "collapsed": true,
    "jupyter": {
     "outputs_hidden": true
    },
    "tags": []
   },
   "outputs": [
    {
     "name": "stdout",
     "output_type": "stream",
     "text": [
      "Puesto:  Intern Forensic Chemistry \n",
      " Country:  Switzerland, Basel\n",
      "\n",
      "Puesto:  Student Internship / Praktikant \n",
      " Country:  Switzerland, Basel\n",
      "\n",
      "Puesto:  (Senior) Scientist Process Development \n",
      " Country:  Switzerland, Basel\n",
      "\n",
      "Puesto:  Senior Data Engineer \n",
      " Country:  Switzerland, Basel; Switzerland, Visp\n",
      "\n",
      "Puesto:  Data Governance Manager \n",
      " Country:  Switzerland, Basel\n",
      "\n",
      "Puesto:  Functional Specialist - Data Coordinator \n",
      " Country:  Switzerland, Basel; United States, Portsmouth (New Hampshire)\n",
      "\n",
      "Puesto:  (Senior) Scientist Physico-Chemical Quality Control \n",
      " Country:  Switzerland, Basel\n",
      "\n",
      "Puesto:  Scientist Bioanalytics \n",
      " Country:  Switzerland, Basel\n",
      "\n",
      "Puesto:  Head of Process Development LNP \n",
      " Country:  Switzerland, Basel\n",
      "\n",
      "Puesto:  Team Leader, Physico-Chemical Quality Control \n",
      " Country:  Switzerland, Basel\n",
      "\n",
      "Puesto:  Principal Scientist / Group Lead Physico-Chemical Quality Control \n",
      " Country:  Switzerland, Basel\n",
      "\n",
      "Puesto:  Technology Transfer Lead \n",
      " Country:  Switzerland, Basel\n",
      "\n",
      "Puesto:  (Senior) Scientist Stability Physico-Chemical Quality Control \n",
      " Country:  Switzerland, Basel\n",
      "\n",
      "Puesto:  Scientist Formulation Development \n",
      " Country:  Switzerland, Basel\n",
      "\n",
      "Puesto:  Lead Scientist, Formulation Development, DPS \n",
      " Country:  Switzerland, Basel\n",
      "\n",
      "Puesto:  Director Commercial Development (Mammalian) \n",
      " Country:  Switzerland, Basel; United Kingdom, Slough\n",
      "\n",
      "Puesto:  Head Commercial Quality Control Drug Product Services \n",
      " Country:  Switzerland, Basel\n",
      "\n",
      "Puesto:  Technical Proposals Manager, Drug Product Services \n",
      " Country:  Switzerland, Basel\n",
      "\n",
      "Puesto:  QC Planner/Scheduler (m/f/d) \n",
      " Country:  Switzerland, Basel\n",
      "\n",
      "Puesto:  Lead Scientist, Process Development \n",
      " Country:  Switzerland, Basel\n",
      "\n",
      "Puesto:  Quality Network Head Drug Product Services \n",
      " Country:  Switzerland, Basel\n",
      "\n",
      "Puesto:  QC Lab Systems Specialist \n",
      " Country:  Switzerland, Basel\n",
      "\n",
      "Puesto:  Technical Sales Manager \n",
      " Country:  Switzerland, Basel; Switzerland, Visp\n",
      "\n",
      "Puesto:  Head of Physico-Chemical Quality Control Drug Product Services \n",
      " Country:  Switzerland, Basel\n",
      "\n",
      "Puesto:  Senior Principal Scientist / Group Head Bioanalytics \n",
      " Country:  Switzerland, Basel\n",
      "\n",
      "Puesto:  Program Manager DPS \n",
      " Country:  Switzerland, Basel\n",
      "\n",
      "Puesto:  Internship Marketing - Business Intelligence and Analytics 100% \n",
      " Country:  Switzerland, Basel\n",
      "\n",
      "Puesto:  Integration Engineer \n",
      " Country:  Switzerland, Basel; Switzerland, Visp\n",
      "\n",
      "Puesto:  Integration Architect \n",
      " Country:  Switzerland, Basel; Switzerland, Visp\n",
      "\n",
      "Puesto:  Intern Supply Chain and Vendor Supply Chain Integrity (100%) \n",
      " Country:  Switzerland, Basel; Switzerland, Stein\n",
      "\n",
      "Puesto:  Digital HR Reporting & Insights Specialist \n",
      " Country:  Switzerland, Basel; United Kingdom, Manchester\n",
      "\n",
      "Puesto:  Associate Director, Digital Portfolio Testing & Release \n",
      " Country:  Singapore, Singapore; Singapore, Tuas Singapore; Spain, Porrino; Switzerland, Basel; Switzerland, Visp; United Kingdom, Slough; United States, Portsmouth (New Hampshire)\n",
      "\n",
      "Puesto:  Global Head of MSAT - Technical Transfer & Processes (m/f/d) \n",
      " Country:  Switzerland, Basel; Switzerland, Visp; United States, Portsmouth (New Hampshire)\n",
      "\n",
      "Puesto:  Principal Scientist / Group Lead Formulation Development \n",
      " Country:  Switzerland, Basel\n",
      "\n",
      "Puesto:  Associate Principal Scientist, DP Process Development \n",
      " Country:  Switzerland, Basel\n",
      "\n",
      "Puesto:  Sales & Operations – CoE Specialist (m/f/d) \n",
      " Country:  Switzerland, Basel\n",
      "\n",
      "Puesto:  IT Strategy Development & Team Lead \n",
      " Country:  Switzerland, Basel\n",
      "\n",
      "Puesto:  •\tInternal Auditor/ Audit Manager (with finance/accounting expertise) \n",
      " Country:  Switzerland, Basel\n",
      "\n",
      "Puesto:  Strategic Growth Project Lead \n",
      " Country:  Switzerland, Basel\n",
      "\n",
      "Puesto:  Scientist Forensic Chemistry \n",
      " Country:  Switzerland, Basel\n",
      "\n",
      "Puesto:  Quality Assurance Expert QC Analytics \n",
      " Country:  Switzerland, Basel\n",
      "\n",
      "Puesto:  Intern – Global Warehouse Strategy (100%) \n",
      " Country:  Switzerland, Basel\n",
      "\n",
      "Puesto:  Business Analyst Digital \n",
      " Country:  Switzerland, Basel; Switzerland, Visp\n",
      "\n",
      "Puesto:  Transport Excellence Director (m/f/w) \n",
      " Country:  Switzerland, Basel\n",
      "\n",
      "Puesto:  Head of Sales and Business Development EMEA and APAC \n",
      " Country:  Switzerland, Basel\n",
      "\n",
      "Puesto:  Principal / Associate Principal Scientist - Analytical Project Leader \n",
      " Country:  Switzerland, Basel\n",
      "\n",
      "Puesto:  Demand Planning – CoE Specialist (m/f/d) \n",
      " Country:  Switzerland, Basel\n",
      "\n",
      "Puesto:  Trade Compliance Manager \n",
      " Country:  Switzerland, Basel\n",
      "\n",
      "Puesto:  IT Auditor / IT Audit Manager \n",
      " Country:  Switzerland, Basel\n",
      "\n",
      "Puesto:  Regional Employer Brand Lead, EMEA \n",
      " Country:  Switzerland, Basel; United Kingdom, Manchester\n",
      "\n"
     ]
    }
   ],
   "source": [
    "for (i) in range(len(list_text_puestos)):\n",
    "    print(\"Puesto: \", list_text_puestos[i], \"\\n\",  \"Country: \", list_text_countries[i])\n",
    "    print()\n",
    "    "
   ]
  },
  {
   "cell_type": "code",
   "execution_count": 20,
   "id": "294c26ba-2190-40c8-a1cd-f8f963246595",
   "metadata": {},
   "outputs": [
    {
     "data": {
      "text/plain": [
       "0"
      ]
     },
     "execution_count": 20,
     "metadata": {},
     "output_type": "execute_result"
    }
   ],
   "source": [
    "# PARSEO DE TODOS LOS DESCRIPCIONES\n",
    "list_descripciones = parser.find_class('col-md-8')\n",
    "\n",
    "type(list_descripciones)\n",
    "len(list_descripciones)"
   ]
  },
  {
   "cell_type": "code",
   "execution_count": 12,
   "id": "7310552b-30cb-4730-b366-3c4586ebbac3",
   "metadata": {
    "tags": []
   },
   "outputs": [
    {
     "ename": "NameError",
     "evalue": "name 'list_r_country' is not defined",
     "output_type": "error",
     "traceback": [
      "\u001b[1;31m---------------------------------------------------------------------------\u001b[0m",
      "\u001b[1;31mNameError\u001b[0m                                 Traceback (most recent call last)",
      "\u001b[1;32m~\\AppData\\Local\\Temp/ipykernel_36984/1835147685.py\u001b[0m in \u001b[0;36m<module>\u001b[1;34m\u001b[0m\n\u001b[0;32m     11\u001b[0m \u001b[1;33m\u001b[0m\u001b[0m\n\u001b[0;32m     12\u001b[0m \u001b[1;33m\u001b[0m\u001b[0m\n\u001b[1;32m---> 13\u001b[1;33m \u001b[0mtype\u001b[0m\u001b[1;33m(\u001b[0m\u001b[0mlist_r_country\u001b[0m\u001b[1;33m)\u001b[0m\u001b[1;33m\u001b[0m\u001b[1;33m\u001b[0m\u001b[0m\n\u001b[0m\u001b[0;32m     14\u001b[0m \u001b[0mprint\u001b[0m\u001b[1;33m(\u001b[0m\u001b[0mlist_r_countries\u001b[0m \u001b[1;33m,\u001b[0m \u001b[0mlen\u001b[0m\u001b[1;33m(\u001b[0m\u001b[0mlist_r_countries\u001b[0m\u001b[1;33m)\u001b[0m\u001b[1;33m)\u001b[0m\u001b[1;33m\u001b[0m\u001b[1;33m\u001b[0m\u001b[0m\n",
      "\u001b[1;31mNameError\u001b[0m: name 'list_r_country' is not defined"
     ]
    }
   ],
   "source": [
    "# CREAMOS LISTAS CON LOS DATOS RECOPILADOS\n",
    "r_countries = parser.find_class('search-result-content')\n",
    "\n",
    "for r_country in r_countries:\n",
    "    \n",
    "    list_r_countries = []\n",
    "    list_r_countries.append(r_country)\n",
    "    \n",
    "    \n",
    "    \n",
    "\n",
    "\n",
    "type(list_r_country)\n",
    "print(list_r_countries , len(list_r_countries))"
   ]
  },
  {
   "cell_type": "code",
   "execution_count": null,
   "id": "27f5902a-d768-4a65-8b7c-9bad4a3d335e",
   "metadata": {},
   "outputs": [],
   "source": []
  }
 ],
 "metadata": {
  "kernelspec": {
   "display_name": "Python 3 (ipykernel)",
   "language": "python",
   "name": "python3"
  },
  "language_info": {
   "codemirror_mode": {
    "name": "ipython",
    "version": 3
   },
   "file_extension": ".py",
   "mimetype": "text/x-python",
   "name": "python",
   "nbconvert_exporter": "python",
   "pygments_lexer": "ipython3",
   "version": "3.9.7"
  }
 },
 "nbformat": 4,
 "nbformat_minor": 5
}
