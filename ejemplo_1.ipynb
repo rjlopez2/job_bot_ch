{
 "cells": [
  {
   "cell_type": "markdown",
   "id": "enormous-wallace",
   "metadata": {},
   "source": [
    "## Scraping datacareer como ejemplo"
   ]
  },
  {
   "cell_type": "code",
   "execution_count": 2,
   "id": "black-template",
   "metadata": {},
   "outputs": [],
   "source": [
    "import requests # pip install requests\n",
    "from lxml import html # pip install lxml"
   ]
  },
  {
   "cell_type": "code",
   "execution_count": 3,
   "id": "curious-assets",
   "metadata": {},
   "outputs": [],
   "source": [
    "headers = {\n",
    "    \"user-agent\": \"Mozilla/5.0 (X11; Linux x86_64) AppleWebKit/537.36 (KHTML, like Gecko) Ubuntu Chromium/71.0.3578.80 Chrome/71.0.3578.80 Safari/537.36\",\n",
    "}"
   ]
  },
  {
   "cell_type": "code",
   "execution_count": 4,
   "id": "shaped-penetration",
   "metadata": {},
   "outputs": [],
   "source": [
    "url = \"https://www.datacareer.ch/jobs/?q=clinical&l=Basilea%2C+Switzerland&city=Basel\""
   ]
  },
  {
   "cell_type": "code",
   "execution_count": 5,
   "id": "medieval-consequence",
   "metadata": {},
   "outputs": [],
   "source": [
    "respuesta = requests.get(url, headers=headers)"
   ]
  },
  {
   "cell_type": "code",
   "execution_count": 6,
   "id": "million-mumbai",
   "metadata": {},
   "outputs": [
    {
     "data": {
      "text/plain": [
       "<Response [200]>"
      ]
     },
     "execution_count": 6,
     "metadata": {},
     "output_type": "execute_result"
    }
   ],
   "source": [
    "respuesta"
   ]
  },
  {
   "cell_type": "code",
   "execution_count": 9,
   "id": "matched-israeli",
   "metadata": {},
   "outputs": [],
   "source": [
    "parser = html.fromstring(respuesta.text)"
   ]
  },
  {
   "cell_type": "code",
   "execution_count": null,
   "id": "planned-console",
   "metadata": {},
   "outputs": [],
   "source": [
    "parser"
   ]
  }
 ],
 "metadata": {
  "kernelspec": {
   "display_name": "Python 3",
   "language": "python",
   "name": "python3"
  },
  "language_info": {
   "codemirror_mode": {
    "name": "ipython",
    "version": 3
   },
   "file_extension": ".py",
   "mimetype": "text/x-python",
   "name": "python",
   "nbconvert_exporter": "python",
   "pygments_lexer": "ipython3",
   "version": "3.8.8"
  }
 },
 "nbformat": 4,
 "nbformat_minor": 5
}
